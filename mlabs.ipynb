{
 "cells": [
  {
   "cell_type": "code",
   "execution_count": 1,
   "id": "8f035d42-d228-4fb9-a7e6-ebce08cb580c",
   "metadata": {},
   "outputs": [],
   "source": [
    "# Import Libraries\n",
    "import pandas as pd\n",
    "from pathlib import Path"
   ]
  },
  {
   "cell_type": "code",
   "execution_count": 2,
   "id": "f825d84e-5ac0-47e3-b73c-83eb5c7665a6",
   "metadata": {},
   "outputs": [],
   "source": [
    "#File 1\n",
    "csv_path = Path(\"bytecode.csv\")\n",
    "#File 2\n",
    "#csv_path = Path(\"bytecode1.csv\")\n",
    "#File 3\n",
    "#csv_path = Path(\"bytecode2.csv\")\n",
    "bytecode = pd.read_csv(csv_path, header=None)"
   ]
  },
  {
   "cell_type": "code",
   "execution_count": 3,
   "id": "c70e988f-ef3d-4bf5-863a-5daab212224a",
   "metadata": {},
   "outputs": [],
   "source": [
    "bytecode.columns = ['Operation', 'Value']"
   ]
  },
  {
   "cell_type": "code",
   "execution_count": 4,
   "id": "0bca2e2a-e036-4f98-9469-ccb68371591f",
   "metadata": {},
   "outputs": [],
   "source": [
    "#bytecode['Value'] = bytecode.Value.astype(int)"
   ]
  },
  {
   "cell_type": "code",
   "execution_count": 5,
   "id": "d47697a4-642d-4a1d-96a1-2de475391a3c",
   "metadata": {},
   "outputs": [
    {
     "data": {
      "text/html": [
       "<div>\n",
       "<style scoped>\n",
       "    .dataframe tbody tr th:only-of-type {\n",
       "        vertical-align: middle;\n",
       "    }\n",
       "\n",
       "    .dataframe tbody tr th {\n",
       "        vertical-align: top;\n",
       "    }\n",
       "\n",
       "    .dataframe thead th {\n",
       "        text-align: right;\n",
       "    }\n",
       "</style>\n",
       "<table border=\"1\" class=\"dataframe\">\n",
       "  <thead>\n",
       "    <tr style=\"text-align: right;\">\n",
       "      <th></th>\n",
       "      <th>Operation</th>\n",
       "      <th>Value</th>\n",
       "    </tr>\n",
       "  </thead>\n",
       "  <tbody>\n",
       "    <tr>\n",
       "      <th>0</th>\n",
       "      <td>LOAD_VAL</td>\n",
       "      <td>1</td>\n",
       "    </tr>\n",
       "    <tr>\n",
       "      <th>1</th>\n",
       "      <td>WRITE_VAR</td>\n",
       "      <td>X</td>\n",
       "    </tr>\n",
       "    <tr>\n",
       "      <th>2</th>\n",
       "      <td>LOAD_VAL</td>\n",
       "      <td>2</td>\n",
       "    </tr>\n",
       "    <tr>\n",
       "      <th>3</th>\n",
       "      <td>WRITE_VAR</td>\n",
       "      <td>Y</td>\n",
       "    </tr>\n",
       "    <tr>\n",
       "      <th>4</th>\n",
       "      <td>READ_VAR</td>\n",
       "      <td>X</td>\n",
       "    </tr>\n",
       "    <tr>\n",
       "      <th>5</th>\n",
       "      <td>LOAD_VAL</td>\n",
       "      <td>1</td>\n",
       "    </tr>\n",
       "    <tr>\n",
       "      <th>6</th>\n",
       "      <td>ADD</td>\n",
       "      <td>NaN</td>\n",
       "    </tr>\n",
       "    <tr>\n",
       "      <th>7</th>\n",
       "      <td>READ_VAR</td>\n",
       "      <td>Y</td>\n",
       "    </tr>\n",
       "    <tr>\n",
       "      <th>8</th>\n",
       "      <td>MULTIPLY</td>\n",
       "      <td>NaN</td>\n",
       "    </tr>\n",
       "    <tr>\n",
       "      <th>9</th>\n",
       "      <td>RETURN</td>\n",
       "      <td>NaN</td>\n",
       "    </tr>\n",
       "  </tbody>\n",
       "</table>\n",
       "</div>"
      ],
      "text/plain": [
       "   Operation Value\n",
       "0   LOAD_VAL     1\n",
       "1  WRITE_VAR     X\n",
       "2   LOAD_VAL     2\n",
       "3  WRITE_VAR     Y\n",
       "4   READ_VAR     X\n",
       "5   LOAD_VAL     1\n",
       "6        ADD   NaN\n",
       "7   READ_VAR     Y\n",
       "8   MULTIPLY   NaN\n",
       "9     RETURN   NaN"
      ]
     },
     "execution_count": 5,
     "metadata": {},
     "output_type": "execute_result"
    }
   ],
   "source": [
    "#bytecode\n",
    "bytecode.head(10)"
   ]
  },
  {
   "cell_type": "code",
   "execution_count": 6,
   "id": "498c8ccf-b54e-48e7-92a4-9482990ad163",
   "metadata": {},
   "outputs": [
    {
     "name": "stdout",
     "output_type": "stream",
     "text": [
      "   Operation Value\n",
      "0   LOAD_VAL     1\n",
      "1  WRITE_VAR     X\n",
      "2   LOAD_VAL     2\n",
      "3  WRITE_VAR     Y\n",
      "4   READ_VAR     X\n",
      "5   LOAD_VAL     1\n",
      "6        ADD   NaN\n",
      "7   READ_VAR     Y\n",
      "8   MULTIPLY   NaN\n",
      "9     RETURN   NaN\n"
     ]
    }
   ],
   "source": [
    "print(bytecode)"
   ]
  },
  {
   "cell_type": "code",
   "execution_count": 7,
   "id": "f1392107-95bd-4e8f-b27f-8e92e8096d07",
   "metadata": {},
   "outputs": [
    {
     "name": "stdout",
     "output_type": "stream",
     "text": [
      "<class 'pandas.core.frame.DataFrame'>\n"
     ]
    }
   ],
   "source": [
    "print(type(bytecode))"
   ]
  },
  {
   "cell_type": "code",
   "execution_count": 8,
   "id": "deb7cb83-f4e1-4c50-bfca-167155eeb06a",
   "metadata": {},
   "outputs": [],
   "source": [
    "wa_operation = []\n",
    "wa_variables = {}"
   ]
  },
  {
   "cell_type": "code",
   "execution_count": 9,
   "id": "80430e81-8683-4340-ba12-5b545f4d199a",
   "metadata": {},
   "outputs": [
    {
     "name": "stdout",
     "output_type": "stream",
     "text": [
      " *** LOAD_VAL *** \n",
      "LOAD_VAL   1\n",
      " *** WRITE_VAL *** \n",
      "WRITE_VAR   X\n",
      " Last val =  1\n",
      " *** LOAD_VAL *** \n",
      "LOAD_VAL   2\n",
      " *** WRITE_VAL *** \n",
      "WRITE_VAR   Y\n",
      " Last val =  2\n",
      " *** READ_VAR *** \n",
      "READ_VAR   X\n",
      " Read value var exists\n",
      " Read var value found is:  1\n",
      " *** LOAD_VAL *** \n",
      "LOAD_VAL   1\n",
      " last item in wa_oper:  1\n",
      " 2nd last item in wa_oper:  1\n",
      " add result =  2\n",
      " *** READ_VAR *** \n",
      "READ_VAR   Y\n",
      " Read value var exists\n",
      " Read var value found is:  2\n",
      " last item in wa_oper:  2\n",
      " 2nd last item in wa_oper:  2\n",
      " multiply result =  4\n",
      " Success - no errors in the program\n"
     ]
    }
   ],
   "source": [
    "i=0\n",
    "for index, row in bytecode.iterrows():\n",
    "    i=i+1\n",
    "#     if i>9:\n",
    "#         break\n",
    "    #print(row[0])\n",
    "    if row[0] == 'LOAD_VAL':\n",
    "        print(' *** LOAD_VAL *** ')\n",
    "        print(row[0], ' ', row[1])\n",
    "        #print(row[1])\n",
    "        if row[1].isnumeric():\n",
    "            #print('numeric')\n",
    "            #print(type(row[1]))\n",
    "            wa_operation.append(int(row[1]))\n",
    "    if row[0] == 'WRITE_VAR':\n",
    "        l_var = row[1]\n",
    "        print(' *** WRITE_VAL *** ')\n",
    "        print(row[0], ' ', row[1])\n",
    "        # check if variable aleadt in list then replace it.\n",
    "        # otherise add\n",
    "        # But add the latest element from wa_operation\n",
    "        \n",
    "        # get last element frmo wa_operation to create variable value\n",
    "        l_oper_len = len(wa_operation)\n",
    "        l_last_val = wa_operation.pop()\n",
    "        print(' Last val = ', l_last_val)\n",
    "        l_val_exists = '0'\n",
    "        for key, val in wa_variables.items():\n",
    "            if key == row[1]:\n",
    "                print(' Var aleady exists')\n",
    "                l_val_exists = '1'\n",
    "        if l_val_exists == '0':\n",
    "            # then store this new variable\n",
    "            wa_variables[row[1]] = l_last_val\n",
    "        if l_val_exists == '1':\n",
    "            # overwrite with new value\n",
    "            wa_variables[row[1]] = l_last_val\n",
    "    if row[0] == 'READ_VAR':\n",
    "        l_var = row[1]\n",
    "        print(' *** READ_VAR *** ')\n",
    "        print(row[0], ' ', row[1]) \n",
    "        l_val_exists = '0'\n",
    "        for key, val in wa_variables.items():\n",
    "            if key == row[1]:\n",
    "                print(' Read value var exists')\n",
    "                l_val_exists = '1'\n",
    "                # then read this into wa_operation area\n",
    "                print(' Read var value found is: ', val)\n",
    "                wa_operation.append(val)\n",
    "        if l_val_exists == '0':\n",
    "            # then this is a problem ERROR\n",
    "            l_error = '1'\n",
    "            print('***** ERROR - read var w/o existing variable set **** ')\n",
    "            break\n",
    "    if row[0] == 'ADD':\n",
    "        # take last 2 wa_operation elements and add them and remove from list\n",
    "        try: \n",
    "            add1 = wa_operation.pop()\n",
    "            print(' last item in wa_oper: ', add1)\n",
    "            add2 = wa_operation.pop()\n",
    "            print(' 2nd last item in wa_oper: ', add1)\n",
    "            l_result = add1 + add2\n",
    "            print(' add result = ', l_result)\n",
    "            wa_operation.append(l_result)\n",
    "        except BaseException as err:\n",
    "            print('***** ERROR in ADD **** ')\n",
    "            break\n",
    "    if row[0] == 'MULTIPLY':\n",
    "        try: \n",
    "            # take last 2 wa_operation elements and multiply them and remove from list\n",
    "            add1 = wa_operation.pop()\n",
    "            print(' last item in wa_oper: ', add1)\n",
    "            add2 = wa_operation.pop()\n",
    "            print(' 2nd last item in wa_oper: ', add1)\n",
    "            l_result = add1 * add2\n",
    "            print(' multiply result = ', l_result)\n",
    "            wa_operation.append(l_result)\n",
    "        except BaseException as err:\n",
    "            print('***** ERROR in MULTIPLY **** ')\n",
    "            break\n",
    "    if row[0] == 'RETURN':\n",
    "        print(' Success - no errors in the program')"
   ]
  },
  {
   "cell_type": "code",
   "execution_count": 10,
   "id": "2d863a06-9327-4708-9a69-1d273d932f3d",
   "metadata": {},
   "outputs": [],
   "source": [
    "if i == 0:\n",
    "    print('TOTAL check - Nothing processed so Homework is failure')"
   ]
  },
  {
   "cell_type": "code",
   "execution_count": 11,
   "id": "6b32d2fe-a24b-4400-8b56-3d215130cdcc",
   "metadata": {},
   "outputs": [
    {
     "name": "stdout",
     "output_type": "stream",
     "text": [
      "[4]\n"
     ]
    }
   ],
   "source": [
    "print(wa_operation)"
   ]
  },
  {
   "cell_type": "code",
   "execution_count": 12,
   "id": "17df3dcc-abc5-447e-a03a-e511ea4f4b6c",
   "metadata": {},
   "outputs": [
    {
     "name": "stdout",
     "output_type": "stream",
     "text": [
      "{'X': 1, 'Y': 2}\n"
     ]
    }
   ],
   "source": [
    "print(wa_variables)"
   ]
  },
  {
   "cell_type": "code",
   "execution_count": null,
   "id": "a0ede9a7-a066-4dbe-93c5-3873bef64a3d",
   "metadata": {},
   "outputs": [],
   "source": []
  }
 ],
 "metadata": {
  "kernelspec": {
   "display_name": "Python 3",
   "language": "python",
   "name": "python3"
  },
  "language_info": {
   "codemirror_mode": {
    "name": "ipython",
    "version": 3
   },
   "file_extension": ".py",
   "mimetype": "text/x-python",
   "name": "python",
   "nbconvert_exporter": "python",
   "pygments_lexer": "ipython3",
   "version": "3.8.8"
  }
 },
 "nbformat": 4,
 "nbformat_minor": 5
}
